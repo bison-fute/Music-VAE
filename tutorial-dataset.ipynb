{
 "cells": [
  {
   "cell_type": "markdown",
   "metadata": {},
   "source": [
    "# Lakh MIDI Dataset Tutorial\n",
    "\n",
    "This IPython notebook demonstrates how to use the data in the [Lakh MIDI Dataset](http://colinraffel.com/projects/lmd/).  It shows how the dataset is organized and gives examples of how to use annotations extracted from `LMD-aligned` (the collection of MIDI files which have been matched and aligned to entries in the Million Song Dataset).  We will use [`pretty_midi`](https://github.com/craffel/pretty-midi) for parsing the MIDI files, [`mir_eval`](https://github.com/craffel/mir_eval) for sonification and visualization, and [`librosa`](https://github.com/librosa/librosa) for audio analysis.\n",
    "\n",
    "> **In brief : data layout, utilizing align midi files with msd meta data : piano roll, lyrics and key changes.**"
   ]
  },
  {
   "cell_type": "code",
   "execution_count": 3,
   "metadata": {},
   "outputs": [],
   "source": [
    "# Imports\n",
    "import numpy as np\n",
    "import matplotlib.pyplot as plt\n",
    "%matplotlib inline\n",
    "import pretty_midi\n",
    "import mir_eval\n",
    "import mir_eval.display\n",
    "import tables\n",
    "import IPython.display\n",
    "import os\n",
    "import json\n",
    "\n",
    "# Local path constants\n",
    "DATA_PATH = 'data'\n",
    "# Path to the file match_scores.json distributed with the LMD\n",
    "SCORE_FILE = os.path.join(DATA_PATH, 'match_scores.json')\n",
    "\n",
    "# Utility functions for retrieving paths\n",
    "def msd_id_to_dirs(msd_id):\n",
    "    \"\"\"Given an MSD ID, generate the path prefix.\n",
    "    E.g. TRABCD12345678 -> A/B/C/TRABCD12345678\"\"\"\n",
    "    return os.path.join(msd_id[2], msd_id[3], msd_id[4], msd_id)\n",
    "\n",
    "def msd_id_to_h5(h5):\n",
    "    \"\"\"Given an MSD ID, return the path to the corresponding h5\"\"\"\n",
    "    return os.path.join(DATA_PATH, 'lmd_matched_h5',\n",
    "                        msd_id_to_dirs(msd_id) + '.h5')\n",
    "\n",
    "def get_midi_path(msd_id, midi_md5, kind):\n",
    "    \"\"\"Given an MSD ID and MIDI MD5, return path to a MIDI file.\n",
    "    kind should be one of 'matched' or 'aligned'. \"\"\"\n",
    "    return os.path.join(DATA_PATH, 'lmd_{}'.format(kind),\n",
    "                        msd_id_to_dirs(msd_id), midi_md5 + '.mid')"
   ]
  },
  {
   "cell_type": "markdown",
   "metadata": {},
   "source": [
    "## Data layout\n",
    "\n",
    "The file [`match_scores.json`](http://colinraffel.com/projects/lmd/match_scores.json) is a good place to start.  It holds a dictionary of dictionaries.  The first dictionary is keyed by Million Song Dataset IDs.  Each entry in this dictionary is a dictionary which maps MD5 checksums of files in the Lakh MIDI Dataset to scores in the range `[0.5, 1.0]` which represent the confidence that a given MIDI file matches a given Million Song Dataset entry.  This range of confidence scores is due to the fact that below `0.5` it's likely that the match is invalid.  Here's an example:"
   ]
  },
  {
   "cell_type": "code",
   "execution_count": 4,
   "metadata": {},
   "outputs": [
    {
     "name": "stdout",
     "output_type": "stream",
     "text": [
      "Million Song Dataset ID TRFIAIQ128F92E63F6 has 2 MIDI file matches:\n",
      "  de8c3a059eade88d6560b399f7833f73 with confidence score 0.5273469231625926\n",
      "  5b0c2b2ddb69956d7f2c5725eb81f417 with confidence score 0.5995753568226387\n"
     ]
    }
   ],
   "source": [
    "with open(SCORE_FILE) as f:\n",
    "    scores = json.load(f)\n",
    "# grab a Million Song Dataset ID from the scores dictionary\n",
    "scores_keys = list(scores.keys())\n",
    "\n",
    "msd_id = scores_keys[1234]\n",
    "print('Million Song Dataset ID {} has {} MIDI file matches:'.format(\n",
    "    msd_id, len(scores[msd_id])))\n",
    "for midi_md5, score in scores[msd_id].items():\n",
    "    print ('  {} with confidence score {}'.format(midi_md5, score))"
   ]
  },
  {
   "cell_type": "markdown",
   "metadata": {},
   "source": [
    "This Million Song Dataset entry has 2 MIDI files matched to it, with scores between ~.53 and .70.  There are multiple MIDI files matched to this one Million Song Dataset entry because the Lakh MIDI Dataset has multiple _different_ MIDI transcriptions of this single piece of music.\n",
    "\n",
    "MIDI files which have been matched to the Million Song Dataset are distributed in the Lakh MIDI Dataset in two formats:  `LMD-matched` provides them in their raw form as they were scraped from the internet; and `LMD-aligned` contains modified versions which have been aligned to the 7digital preview MP3s which accompany the Million Song Dataset.  The directory structure of both of these packages follows the Million Song Dataset. "
   ]
  },
  {
   "cell_type": "markdown",
   "metadata": {},
   "source": [
    "## Utilizing aligned MIDI files\n",
    "\n",
    "MIDI files provide a wide variety of useful information.  Moreover, when they are matched and aligned to audio recordings, they can be used to derive annotations about the recording.  Below is a demonstration of how to extract this information from the files in `LMD-aligned`.  We'll start by grabbing a MIDI file which has all of the useful information we will demonstrate."
   ]
  },
  {
   "cell_type": "code",
   "execution_count": 5,
   "metadata": {},
   "outputs": [],
   "source": [
    "while True:\n",
    "    # Grab an MSD ID and its dictionary of matches\n",
    "    msd_id, matches = scores.popitem()\n",
    "    # Grab a MIDI from the matches\n",
    "    midi_md5, score = matches.popitem()\n",
    "    # Construct the path to the aligned MIDI\n",
    "    aligned_midi_path = get_midi_path(msd_id, midi_md5, 'aligned')\n",
    "    # Load/parse the MIDI file with pretty_midi\n",
    "    pm = pretty_midi.PrettyMIDI(aligned_midi_path)\n",
    "    # Look for a MIDI file which has lyric and key signature change events\n",
    "    if len(pm.lyrics) > 5 and len(pm.key_signature_changes) > 0:\n",
    "        break"
   ]
  },
  {
   "cell_type": "markdown",
   "metadata": {},
   "source": [
    "### Metadata from the Million Song Dataset\n",
    "\n",
    "We can use information from the h5 file for the Million Song Dataset entry to determine metadata about this MIDI file match.  The Million Song Dataset also has additional useful information, like terms which describe the artist."
   ]
  },
  {
   "cell_type": "code",
   "execution_count": 7,
   "metadata": {},
   "outputs": [
    {
     "name": "stdout",
     "output_type": "stream",
     "text": [
      "ID: TRLEJHB12903CAC3DB\n",
      "\"b'Macarthur Park'\" by b'Long John Baldry' on \"b'Let The Heartaches Begin'\"\n",
      "Top 5 artist terms: b'blues-rock, british blues, british invasion, beat, blues'\n"
     ]
    }
   ],
   "source": [
    "with tables.open_file(msd_id_to_h5(msd_id)) as h5:\n",
    "    print('ID: {}'.format(msd_id))\n",
    "    print('\"{}\" by {} on \"{}\"'.format(\n",
    "        h5.root.metadata.songs.cols.title[0],\n",
    "        h5.root.metadata.songs.cols.artist_name[0],\n",
    "        h5.root.metadata.songs.cols.release[0]))\n",
    "    print('Top 5 artist terms:', b', '.join(\n",
    "        list(h5.root.metadata.artist_terms)[:5]))"
   ]
  },
  {
   "cell_type": "markdown",
   "metadata": {},
   "source": [
    "### Transcription\n",
    "\n",
    "MIDI files are at their core a way of storing a score of a piece of music, so the MIDI files in the Lakh MIDI dataset can be used to obtain a transcription of the audio files they are matched and aligned to.  `pretty_midi`'s `get_piano_roll()` method provides a convenient way of getting a \"piano roll representation\" of the transcription."
   ]
  },
  {
   "cell_type": "markdown",
   "metadata": {},
   "source": [
    "In MIDI files, different instruments are transcribed on different tracks or channels, which allows them to be separated easily.  You can therefore easily get per-instrument piano rolls with `pretty_midi`.  This enables the potential of creating annotations for melody extraction and score-informed source separation.  Note that while methods exist for giving instruments arbitrary text names, in practice are limited to the instruments in the General MIDI specification."
   ]
  },
  {
   "cell_type": "code",
   "execution_count": 10,
   "metadata": {},
   "outputs": [],
   "source": [
    "# Retrieve piano roll of one of the instruments\n",
    "track_nb = 3\n",
    "piano_roll = pm.instruments[track_nb].get_piano_roll()\n",
    "piano_roll = piano_roll[12:96]\n",
    "# Get the text name of this instrument's program number\n",
    "program_name = pretty_midi.program_to_instrument_name(\n",
    "    pm.instruments[track_nb].program)"
   ]
  },
  {
   "cell_type": "code",
   "execution_count": 11,
   "metadata": {},
   "outputs": [
    {
     "data": {
      "image/png": "[encoded data removed]",
      "text/plain": [
       "<Figure size 720x216 with 1 Axes>"
      ]
     },
     "metadata": {
      "needs_background": "light"
     },
     "output_type": "display_data"
    }
   ],
   "source": [
    "# pretty_midi also provides direct access to the pitch \n",
    "# and start/end time of each note\n",
    "\n",
    "intervals = np.array([[note.start, note.end] \n",
    "                      for note in pm.instruments[4].notes])\n",
    "notes = np.array([note.pitch for note in pm.instruments[track_nb].notes])\n",
    "plt.figure(figsize=(10, 3))\n",
    "mir_eval.display.piano_roll(intervals, midi=notes, facecolor='orange')\n",
    "plt.title('Instrument {} ({}) piano roll'.format(track_nb, program_name))\n",
    "plt.xlabel('Time')\n",
    "plt.ylabel('MIDI note number');"
   ]
  },
  {
   "cell_type": "markdown",
   "metadata": {},
   "source": [
    "### Key changes\n",
    "\n",
    "MIDI files can contain key signature annotations.  They are, however, a completely optional meta-event, so many MIDI files don't have one.  Because key changes are rare in Western popular music, most MIDI files which do have key signature change annotations only have one."
   ]
  },
  {
   "cell_type": "code",
   "execution_count": 12,
   "metadata": {},
   "outputs": [
    {
     "name": "stdout",
     "output_type": "stream",
     "text": [
      "Key Bb Major starting at time 0.00\n"
     ]
    }
   ],
   "source": [
    "# Print out all key changes in the MIDI file\n",
    "for key_change in pm.key_signature_changes:\n",
    "    print('Key {} starting at time {:.2f}'.format(\n",
    "        pretty_midi.key_number_to_key_name(key_change.key_number), \n",
    "        key_change.time))"
   ]
  },
  {
   "cell_type": "markdown",
   "metadata": {},
   "source": [
    "### Lyrics\n",
    "\n",
    "MIDI files can also optionally have lyrics events, which are essentially timestamped text.  Lyrics are often transcribed at the syllable level, but also occasionally at the character or word level.  As with meter information, because the MIDI files in `LMD-aligned` are matched and aligned to 7digital preview MP3s, we can use the MIDI files to obtain timestamped lyrics transcriptions for these recordings."
   ]
  },
  {
   "cell_type": "code",
   "execution_count": 13,
   "metadata": {},
   "outputs": [
    {
     "name": "stdout",
     "output_type": "stream",
     "text": [
      "   0.000|   0.297|   0.650|   0.827|   1.180\n",
      "    the |    part|     ed |     pag|      es\n",
      "   1.885|   2.062|   2.415|   3.474\n",
      "    and |   were |pressed |      in\n",
      "   3.650|   4.003|   4.533|   4.885|   5.238\n",
      " love's |    hot |      fe|  vered |    iron\n",
      "   6.297|   6.474|   6.650|   7.003|   7.356|   7.709\n",
      "   like |      a |striped |   pair |     of |  pants.\n",
      "  16.533|  16.886|  16.886|  17.238|  17.591|  17.944|  18.297|  18.650|  19.003|  19.180\n",
      "     Mac|       \n",
      "|      Ar|   thur |   Park |     is |    melt|    ing | in the |    dark\n",
      "  20.461|  20.638|  20.814|  21.167|  21.565|  21.920|  22.273|  22.978|  23.331\n",
      "    all |    the | sweet, |  green |      ic|    ing |    flow|    ing |   down.\n",
      "  25.096|  25.449|  25.802|  26.155|  26.331|  26.684|  27.390|  27.567|  27.920\n",
      "    Some|    one |   left |    the |   cake |    out |     in |    the |   rain,\n"
     ]
    }
   ],
   "source": [
    "# Get the boundaries of each line in the lyrics\n",
    "lines = [0] + [n for n, lyric in enumerate(pm.lyrics) if '\\r' in lyric.text]\n",
    "for start, end in zip(lines[:-1], lines[1:]):\n",
    "    # Print the times of each lyric in the line, delimited by |\n",
    "    print('|'.join('{:>8.3f}'.format(lyric.time)\n",
    "                   for lyric in pm.lyrics[start:end]\n",
    "                   if lyric.text != '\\r'))\n",
    "    # Print the text of each lyric in the line, delimited by |\n",
    "    print('|'.join('{:>8}'.format(lyric.text)\n",
    "                   for lyric in pm.lyrics[start:end]\n",
    "                   if lyric.text != '\\r'))"
   ]
  },
  {
   "cell_type": "code",
   "execution_count": null,
   "metadata": {},
   "outputs": [],
   "source": []
  },
  {
   "cell_type": "code",
   "execution_count": null,
   "metadata": {},
   "outputs": [],
   "source": []
  }
 ],
 "metadata": {
  "kernelspec": {
   "display_name": "Python 3.9.1 64-bit ('anaconda3': conda)",
   "language": "python",
   "name": "python39164bitanaconda3conda81032ac589d446a886e7c46b1407fd98"
  },
  "language_info": {
   "codemirror_mode": {
    "name": "ipython",
    "version": 3
   },
   "file_extension": ".py",
   "mimetype": "text/x-python",
   "name": "python",
   "nbconvert_exporter": "python",
   "pygments_lexer": "ipython3",
   "version": "3.7.9"
  },
  "varInspector": {
   "cols": {
    "lenName": "1000",
    "lenType": 16,
    "lenVar": 40
   },
   "kernels_config": {
    "python": {
     "delete_cmd_postfix": "",
     "delete_cmd_prefix": "del ",
     "library": "var_list.py",
     "varRefreshCmd": "print(var_dic_list())"
    },
    "r": {
     "delete_cmd_postfix": ") ",
     "delete_cmd_prefix": "rm(",
     "library": "var_list.r",
     "varRefreshCmd": "cat(var_dic_list()) "
    }
   },
   "types_to_exclude": [
    "module",
    "function",
    "builtin_function_or_method",
    "instance",
    "_Feature"
   ],
   "window_display": false
  }
 },
 "nbformat": 4,
 "nbformat_minor": 1
}
