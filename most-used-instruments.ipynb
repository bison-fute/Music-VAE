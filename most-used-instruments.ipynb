{
 "cells": [
  {
   "cell_type": "code",
   "execution_count": 18,
   "metadata": {},
   "outputs": [],
   "source": [
    "import glob\n",
    "import os\n",
    "import pandas as pd\n",
    "import pretty_midi\n",
    "from IPython.display import clear_output"
   ]
  },
  {
   "cell_type": "code",
   "execution_count": 20,
   "metadata": {},
   "outputs": [
    {
     "name": "stdout",
     "output_type": "stream",
     "text": [
      "For example, midi_files[0] correpsonds to :\n",
      "data/lmd_aligned/S/S/S/TRSSSJW128F146D5DC/5775cbedfbd4a93993bd333e33527a42.mid\n"
     ]
    }
   ],
   "source": [
    "DATA_PATH = 'data'\n",
    "SEARCH_CRITERION = '**/*.mid'\n",
    "# list all midi files\n",
    "midi_files = glob.glob(os.path.join(DATA_PATH, SEARCH_CRITERION),\n",
    "                       recursive=True)\n",
    "print(\"For example, midi_files[0] correpsonds to :\\n{}\".format(midi_files[0]))"
   ]
  },
  {
   "cell_type": "markdown",
   "metadata": {},
   "source": [
    "# Simplifying the dataset\n",
    "\n",
    "To begin with, let's list all the instruments present in the midi files by count, so we can take a decision on where to start.\n",
    "We will want to only focus on training melodies for one set for now, so it makes sense to pick an instrument (program code), that is present in large quantities, and is likely to have long melodies to train on.\n",
    "\n",
    "Initial guesses would be a Piano or Guitar program.\n",
    "\n",
    "Some songs might have duplicates - we'll find a way to deal with this later if necessary.\n",
    "\n",
    "[See here](https://soundprogramming.net/file-formats/general-midi-instrument-list/) for a list of instrument programs and their names"
   ]
  },
  {
   "cell_type": "code",
   "execution_count": 21,
   "metadata": {},
   "outputs": [
    {
     "name": "stdout",
     "output_type": "stream",
     "text": [
      "116187/116189: Loading and parsing 66552a5273a615bdc470171492d80a94.mid.\n"
     ]
    }
   ],
   "source": [
    "# Save the filepath for a second pass loading the piano \n",
    "# rolls for each instrument we will use\n",
    "\n",
    "limit = -1\n",
    "\n",
    "instrument_ary = [[]]\n",
    "instrument_ary.append(['program', 'is_drum', 'name', 'filepath'])\n",
    "# This might take a while...\n",
    "for index, file in enumerate(midi_files[:limit]):\n",
    "    clear_output(wait=True)\n",
    "    print(\"file {}/{}: Loading and parsing {}\".format(\n",
    "        index, len(midi_files), os.path.basename(file)))\n",
    "    try:\n",
    "        pm = pretty_midi.PrettyMIDI(file)\n",
    "        instruments = pm.instruments\n",
    "\n",
    "        for instrument in instruments:\n",
    "            instrument_ary.append([instrument.program, instrument.is_drum, instrument.name.replace(';',''), file])\n",
    "    except:\n",
    "        # For now, just ignore files we can't load.\n",
    "        continue"
   ]
  },
  {
   "cell_type": "code",
   "execution_count": 24,
   "metadata": {},
   "outputs": [
    {
     "data": {
      "text/html": [
       "<div>\n",
       "<style scoped>\n",
       "    .dataframe tbody tr th:only-of-type {\n",
       "        vertical-align: middle;\n",
       "    }\n",
       "\n",
       "    .dataframe tbody tr th {\n",
       "        vertical-align: top;\n",
       "    }\n",
       "\n",
       "    .dataframe thead th {\n",
       "        text-align: right;\n",
       "    }\n",
       "</style>\n",
       "<table border=\"1\" class=\"dataframe\">\n",
       "  <thead>\n",
       "    <tr style=\"text-align: right;\">\n",
       "      <th></th>\n",
       "      <th>program</th>\n",
       "      <th>is_drum</th>\n",
       "      <th>name</th>\n",
       "      <th>filepath</th>\n",
       "    </tr>\n",
       "  </thead>\n",
       "  <tbody>\n",
       "    <tr>\n",
       "      <th>1</th>\n",
       "      <td>program</td>\n",
       "      <td>is_drum</td>\n",
       "      <td>name</td>\n",
       "      <td>filepath</td>\n",
       "    </tr>\n",
       "    <tr>\n",
       "      <th>2</th>\n",
       "      <td>30</td>\n",
       "      <td>False</td>\n",
       "      <td>Track 1</td>\n",
       "      <td>data/lmd_aligned/S/S/S/TRSSSJW128F146D5DC/5775...</td>\n",
       "    </tr>\n",
       "    <tr>\n",
       "      <th>3</th>\n",
       "      <td>30</td>\n",
       "      <td>False</td>\n",
       "      <td>Track 2</td>\n",
       "      <td>data/lmd_aligned/S/S/S/TRSSSJW128F146D5DC/5775...</td>\n",
       "    </tr>\n",
       "    <tr>\n",
       "      <th>4</th>\n",
       "      <td>34</td>\n",
       "      <td>False</td>\n",
       "      <td>Track 3</td>\n",
       "      <td>data/lmd_aligned/S/S/S/TRSSSJW128F146D5DC/5775...</td>\n",
       "    </tr>\n",
       "    <tr>\n",
       "      <th>5</th>\n",
       "      <td>34</td>\n",
       "      <td>False</td>\n",
       "      <td>Track 3</td>\n",
       "      <td>data/lmd_aligned/S/S/S/TRSSSJW128F146D5DC/5775...</td>\n",
       "    </tr>\n",
       "  </tbody>\n",
       "</table>\n",
       "</div>"
      ],
      "text/plain": [
       "   program  is_drum     name  \\\n",
       "1  program  is_drum     name   \n",
       "2       30    False  Track 1   \n",
       "3       30    False  Track 2   \n",
       "4       34    False  Track 3   \n",
       "5       34    False  Track 3   \n",
       "\n",
       "                                            filepath  \n",
       "1                                           filepath  \n",
       "2  data/lmd_aligned/S/S/S/TRSSSJW128F146D5DC/5775...  \n",
       "3  data/lmd_aligned/S/S/S/TRSSSJW128F146D5DC/5775...  \n",
       "4  data/lmd_aligned/S/S/S/TRSSSJW128F146D5DC/5775...  \n",
       "5  data/lmd_aligned/S/S/S/TRSSSJW128F146D5DC/5775...  "
      ]
     },
     "execution_count": 24,
     "metadata": {},
     "output_type": "execute_result"
    }
   ],
   "source": [
    "df = pd.DataFrame(data=instrument_ary, columns=[\"program\", \"is_drum\", \"name\", \"filepath\"])\n",
    "df = df.dropna()\n",
    "df.head()"
   ]
  },
  {
   "cell_type": "markdown",
   "metadata": {},
   "source": [
    "# Save the loaded instruments for further processing"
   ]
  },
  {
   "cell_type": "code",
   "execution_count": 25,
   "metadata": {},
   "outputs": [],
   "source": [
    "file_name = 'instruments.csv'\n",
    "df.to_csv(file_name, sep=';', encoding='utf-8')"
   ]
  },
  {
   "cell_type": "markdown",
   "metadata": {},
   "source": [
    "## Show the instruments that occur most often in different files\n",
    "\n",
    "We want to get an intuition of which songs might have the most attractive instruments to work on"
   ]
  },
  {
   "cell_type": "code",
   "execution_count": 46,
   "metadata": {},
   "outputs": [
    {
     "data": {
      "text/html": [
       "<div>\n",
       "<style scoped>\n",
       "    .dataframe tbody tr th:only-of-type {\n",
       "        vertical-align: middle;\n",
       "    }\n",
       "\n",
       "    .dataframe tbody tr th {\n",
       "        vertical-align: top;\n",
       "    }\n",
       "\n",
       "    .dataframe thead th {\n",
       "        text-align: right;\n",
       "    }\n",
       "</style>\n",
       "<table border=\"1\" class=\"dataframe\">\n",
       "  <thead>\n",
       "    <tr style=\"text-align: right;\">\n",
       "      <th></th>\n",
       "      <th>is_drum</th>\n",
       "      <th>name</th>\n",
       "      <th>filepath</th>\n",
       "    </tr>\n",
       "    <tr>\n",
       "      <th>program</th>\n",
       "      <th></th>\n",
       "      <th></th>\n",
       "      <th></th>\n",
       "    </tr>\n",
       "  </thead>\n",
       "  <tbody>\n",
       "    <tr>\n",
       "      <th>0</th>\n",
       "      <td>2</td>\n",
       "      <td>14923</td>\n",
       "      <td>92919</td>\n",
       "    </tr>\n",
       "    <tr>\n",
       "      <th>33</th>\n",
       "      <td>2</td>\n",
       "      <td>4475</td>\n",
       "      <td>34051</td>\n",
       "    </tr>\n",
       "    <tr>\n",
       "      <th>25</th>\n",
       "      <td>2</td>\n",
       "      <td>5008</td>\n",
       "      <td>32062</td>\n",
       "    </tr>\n",
       "    <tr>\n",
       "      <th>48</th>\n",
       "      <td>2</td>\n",
       "      <td>4545</td>\n",
       "      <td>32041</td>\n",
       "    </tr>\n",
       "    <tr>\n",
       "      <th>35</th>\n",
       "      <td>2</td>\n",
       "      <td>2772</td>\n",
       "      <td>27388</td>\n",
       "    </tr>\n",
       "  </tbody>\n",
       "</table>\n",
       "</div>"
      ],
      "text/plain": [
       "         is_drum   name  filepath\n",
       "program                          \n",
       "0              2  14923     92919\n",
       "33             2   4475     34051\n",
       "25             2   5008     32062\n",
       "48             2   4545     32041\n",
       "35             2   2772     27388"
      ]
     },
     "execution_count": 46,
     "metadata": {},
     "output_type": "execute_result"
    }
   ],
   "source": [
    "# Show the instrument with the most unique filepath values\n",
    "frequent_track = df.groupby('program').nunique().sort_values('filepath', ascending=False)\n",
    "frequent_track.head()"
   ]
  },
  {
   "cell_type": "code",
   "execution_count": 44,
   "metadata": {},
   "outputs": [
    {
     "name": "stdout",
     "output_type": "stream",
     "text": [
      "The most used program is present in 92919 midi files over 116189 documents.\n"
     ]
    }
   ],
   "source": [
    "print(\"The most used program is present in {} midi files over {} documents.\".format(\n",
    "   frequent_track.iloc[0]['filepath'], len(midi_files)))"
   ]
  },
  {
   "cell_type": "code",
   "execution_count": null,
   "metadata": {},
   "outputs": [],
   "source": []
  }
 ],
 "metadata": {
  "kernelspec": {
   "display_name": "Python 3",
   "language": "python",
   "name": "python3"
  },
  "language_info": {
   "codemirror_mode": {
    "name": "ipython",
    "version": 3
   },
   "file_extension": ".py",
   "mimetype": "text/x-python",
   "name": "python",
   "nbconvert_exporter": "python",
   "pygments_lexer": "ipython3",
   "version": "3.7.9"
  },
  "varInspector": {
   "cols": {
    "lenName": "1000",
    "lenType": 16,
    "lenVar": 40
   },
   "kernels_config": {
    "python": {
     "delete_cmd_postfix": "",
     "delete_cmd_prefix": "del ",
     "library": "var_list.py",
     "varRefreshCmd": "print(var_dic_list())"
    },
    "r": {
     "delete_cmd_postfix": ") ",
     "delete_cmd_prefix": "rm(",
     "library": "var_list.r",
     "varRefreshCmd": "cat(var_dic_list()) "
    }
   },
   "types_to_exclude": [
    "module",
    "function",
    "builtin_function_or_method",
    "instance",
    "_Feature"
   ],
   "window_display": false
  }
 },
 "nbformat": 4,
 "nbformat_minor": 2
}
